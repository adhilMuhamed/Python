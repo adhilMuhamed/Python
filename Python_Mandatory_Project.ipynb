{
  "nbformat": 4,
  "nbformat_minor": 0,
  "metadata": {
    "colab": {
      "provenance": []
    },
    "kernelspec": {
      "name": "python3",
      "display_name": "Python 3"
    },
    "language_info": {
      "name": "python"
    }
  },
  "cells": [
    {
      "cell_type": "markdown",
      "source": [
        "**Q1:** You are working in a bank, and you have been given two lists of the employees who worked in 2021. Employees’ names in list 1 are Ramesh, Suresh, Mahesh, Ali, Jacob, and Saritha. List 2 contains the names of Ali, Mukesh, Mahesh, Jacob, Sai, and Sarita. Please write a program that helps to identify people who are common in both lists. Please do not use any in-built function."
      ],
      "metadata": {
        "id": "rlPCrhZKtYVq"
      }
    },
    {
      "cell_type": "code",
      "execution_count": 12,
      "metadata": {
        "colab": {
          "base_uri": "https://localhost:8080/"
        },
        "id": "PObSZAyFtPCL",
        "outputId": "c1d31b33-6f9c-4c8f-d093-9cd2f6ea11d4"
      },
      "outputs": [
        {
          "output_type": "stream",
          "name": "stdout",
          "text": [
            "Mahesh\n",
            "Ali\n",
            "Jacob\n",
            "Saritha\n"
          ]
        }
      ],
      "source": [
        "list1 = ['Ramesh','Suresh','Mahesh','Ali','Jacob','Saritha']\n",
        "list2 = ['Ali','Mukesh','Mahesh','Jacob','Sai','Saritha']\n",
        "\n",
        "for each in list1:\n",
        "  if each in list2:\n",
        "    print(each)\n"
      ]
    },
    {
      "cell_type": "markdown",
      "source": [
        "**Q2:** While entering data, someone entered a few names as a common string “Ramesh Suresh Mohit”. Please write a program which separates all the names and converts them into a list. Once converted into a list, please write a program that adds their age.\n",
        "\n",
        "\n",
        "Ramesh:  25\n",
        "\n",
        "Suresh: 22\n",
        "\n",
        "Mohit: 26"
      ],
      "metadata": {
        "id": "pDDbfjjQvIrd"
      }
    },
    {
      "cell_type": "code",
      "source": [
        "string1 = \"Ramesh Suresh Mohit\"\n",
        "\n",
        "print(string1)\n",
        "\n",
        "list3= string1.split()\n",
        "\n",
        "print(list3)\n",
        "\n",
        "name_age={}\n",
        "\n",
        "for each in list3:\n",
        "  age = int(input(f\"Enter age for  {each} : \"))\n",
        "  name_age[each]=age\n",
        "\n",
        "\n",
        "print(name_age)\n",
        "\n",
        "sum = sum(name_age.values())\n",
        "\n",
        "print(f\"Sum of ages  {sum}\")"
      ],
      "metadata": {
        "colab": {
          "base_uri": "https://localhost:8080/"
        },
        "id": "b0S-2airvQM4",
        "outputId": "9c2d7ea7-35bb-4b63-8e3f-2e07b11a47c8"
      },
      "execution_count": 14,
      "outputs": [
        {
          "output_type": "stream",
          "name": "stdout",
          "text": [
            "Ramesh Suresh Mohit\n",
            "['Ramesh', 'Suresh', 'Mohit']\n",
            "Enter age for  Ramesh : 25\n",
            "Enter age for  Suresh : 22\n",
            "Enter age for  Mohit : 26\n",
            "{'Ramesh': 25, 'Suresh': 22, 'Mohit': 26}\n",
            "Sum of ages  73\n"
          ]
        }
      ]
    },
    {
      "cell_type": "markdown",
      "source": [
        "**Q3:** You are working in a medical store. A patient came to your medical store and asked to buy 2 strips of paracetamol, 3 strips of azithromycin, and 5 strips of Vitamin C. One strip of paracetamol costs Rs 35, one strip of azithromycin costs Rs 49, and one strip of vitamin c costs Rs. 33. Patient gave you Rs 2000. Please tell us what is the total cost of each medicine, the total cost of all medicine, and how much money you refunded to the patient.  "
      ],
      "metadata": {
        "id": "9H_2i1XBypuy"
      }
    },
    {
      "cell_type": "code",
      "source": [
        "medicine_price = {\"paracetamol\": 35 , \"azithromycin\" : 49 , \"Vitamin C\" : 33,}\n",
        "print(medicine_price)\n",
        "\n",
        "medicine_bought = int(input(\"Enter Number of medicine Bought : \"))\n",
        "\n",
        "purchase_list= {}\n",
        "\n",
        "for i in range(medicine_bought):\n",
        "  med_name = input(\"Enter Medicine Name : \")\n",
        "  med_qty = int(input(\"Enter Quantity : \"))\n",
        "  purchase_list[med_name]=med_qty\n",
        "\n",
        "\n",
        "# purchase_list={'paracetamol': 2, 'azithromycin': 3, 'Vitamin C': 5}\n",
        "\n",
        "\n",
        "print(purchase_list)\n",
        "price = 0\n",
        "\n",
        "for each in purchase_list.items():\n",
        "  n,q = each\n",
        "  print(f\"Cost of {n} medicine for {q} Strips is {medicine_price.get(n)*q}\")\n",
        "  price = price + medicine_price.get(n)*q\n",
        "\n",
        "\n",
        "print(f\"Total Price is  {price}\")\n",
        "\n",
        "customer_paid = int(input(\"Amount Paid By customer : \"))\n",
        "\n",
        "\n",
        "Balance  = customer_paid-price\n",
        "print(f\"Balance Paid Back to Customer {Balance}\")\n",
        "\n",
        "\n"
      ],
      "metadata": {
        "colab": {
          "base_uri": "https://localhost:8080/"
        },
        "id": "SIOZExGBytgS",
        "outputId": "e55441f0-6896-4a24-8595-1bc0b1e3525c"
      },
      "execution_count": 17,
      "outputs": [
        {
          "output_type": "stream",
          "name": "stdout",
          "text": [
            "{'paracetamol': 35, 'azithromycin': 49, 'Vitamin C': 33}\n",
            "Enter Number of medicine Bought : 3\n",
            "Enter Medicine Name : paracetamol\n",
            "Enter Quantity : 2\n",
            "Enter Medicine Name : azithromycin\n",
            "Enter Quantity : 3\n",
            "Enter Medicine Name : Vitamin C\n",
            "Enter Quantity : 5\n",
            "{'paracetamol': 2, 'azithromycin': 3, 'Vitamin C': 5}\n",
            "Cost of paracetamol medicine for 2 Strips is 70\n",
            "Cost of azithromycin medicine for 3 Strips is 147\n",
            "Cost of Vitamin C medicine for 5 Strips is 165\n",
            "Total Price is  382\n",
            "Amount Paid By customer : 2000\n",
            "Balance Paid Back to Customer 1618\n"
          ]
        }
      ]
    },
    {
      "cell_type": "markdown",
      "source": [
        "**Q4:** Accept a sentence as input and find the number of vowels in it. Assume that the sentence has no punctuation marks. For example, I am learning python contains 6 vowels. This function should be applicable for all other different sentences."
      ],
      "metadata": {
        "id": "6CX2VkgV6QY6"
      }
    },
    {
      "cell_type": "code",
      "source": [
        "sentence = input(\"Enter a Sentence : \")\n",
        "#sentence = \"I am learning python\"\n",
        "#print(sentence)\n",
        "\n",
        "lower_sentence = sentence.lower()\n",
        "count = 0\n",
        "\n",
        "list4 = list(lower_sentence)\n",
        "\n",
        "vowel = ['a','e','i','o','u']\n",
        "\n",
        "for each in list4:\n",
        "  if each in vowel:\n",
        "    count = count + 1\n",
        "\n",
        "print(f\"No of vowels in string \\\"{sentence}\\\" is {count}\")"
      ],
      "metadata": {
        "colab": {
          "base_uri": "https://localhost:8080/"
        },
        "id": "CNnqrdQd6W-I",
        "outputId": "9d4986da-b757-45ff-c512-c8494f44be55"
      },
      "execution_count": 18,
      "outputs": [
        {
          "output_type": "stream",
          "name": "stdout",
          "text": [
            "Enter a Sentence : I am learning python\n",
            "No of vowels in string \"I am learning python\" is 6\n"
          ]
        }
      ]
    },
    {
      "cell_type": "markdown",
      "source": [
        "**Q5:** You have been appointed by the election commission to create a website. Your first task is to work on a program which tells candidates if they are eligible for voting or not. If they are eligible, your output should be ‘Congrats! You are eligible’; otherwise, it should tell that you have to return after X number of years. The eligibility criteria for voting is 18 years.\n",
        "\n",
        "\n",
        "For example, If someone is 18 or above, your output should be ‘Congrats! You are eligible’. If someone’s age is 15 years, it should print output as ‘return after 3 years’.   "
      ],
      "metadata": {
        "id": "Oeqcw6Ju1Lc5"
      }
    },
    {
      "cell_type": "code",
      "source": [
        "legal_age = 18\n",
        "\n",
        "candidate_age  = int(input(\"Enter Your age : \"))\n",
        "\n",
        "if candidate_age >= 18:\n",
        "  print(\"Congrats! You are eligible\")\n",
        "else:\n",
        "  age = legal_age-candidate_age\n",
        "  print(f\"Return after {age} years\")"
      ],
      "metadata": {
        "colab": {
          "base_uri": "https://localhost:8080/"
        },
        "id": "jgRRRy5I1O9A",
        "outputId": "a67c357d-f9a4-4b2c-d8cc-7cb35e726106"
      },
      "execution_count": 19,
      "outputs": [
        {
          "output_type": "stream",
          "name": "stdout",
          "text": [
            "Enter Your age : 20\n",
            "Congrats! You are eligible\n"
          ]
        }
      ]
    },
    {
      "cell_type": "markdown",
      "source": [
        "**Q6:** Given a list of integers, find the cumulative sum of the elements of the list and store them in another list.\n",
        "\n",
        "\n",
        "A = [1, 2, 3, 4, 5]\n",
        "\n",
        "\n",
        "Output:\n",
        "\n",
        "[1, 3, 6, 10, 15]"
      ],
      "metadata": {
        "id": "mEgJu6hq2gU_"
      }
    },
    {
      "cell_type": "code",
      "source": [
        "A= [1,2,3,4,5]\n",
        "\n",
        "#lenth = len(A)\n",
        "\n",
        "#print(lenth)\n",
        "\n",
        "B = []\n",
        "element = 0\n",
        "for each in range(len(A)):\n",
        "  element = element + A[each]\n",
        "  B.append(element)\n",
        "\n",
        "print(B)\n"
      ],
      "metadata": {
        "colab": {
          "base_uri": "https://localhost:8080/"
        },
        "id": "1uZa6yaU2kgl",
        "outputId": "c22e0d5d-b479-4c22-aef0-54e746c9633e"
      },
      "execution_count": 20,
      "outputs": [
        {
          "output_type": "stream",
          "name": "stdout",
          "text": [
            "[1, 3, 6, 10, 15]\n"
          ]
        }
      ]
    },
    {
      "cell_type": "markdown",
      "source": [
        "**Q7:**\n",
        "\n",
        "WAP to encode a message entered by user as per below conditions:\n",
        "\n",
        "\n",
        "\n",
        "for every word in the sentence,\n",
        "\n",
        "1. If the word starts with a vowel, encode it as first and last letter of the word.\n",
        "\n",
        "2. If the word starts with a consonant, remove all vowels from it.\n",
        "\n",
        "\n",
        "\n",
        "Ensure the case insensitive comparisions/checks are performed.\n",
        "\n",
        "\n",
        "\n",
        "Please enter your text:The quick brown fox used to sleep inside this box\n",
        "\n",
        "Encoded Msg: Th qck brwn fx ud t slp ie ths bx"
      ],
      "metadata": {
        "id": "LeLfMyRq37XO"
      }
    },
    {
      "cell_type": "code",
      "source": [
        "user_string = input(\"Please enter your text : \")\n",
        "\n",
        "#user_string = \"The quick brown fox used to sleep inside this box\"\n",
        "\n",
        "lower_string = user_string.lower()\n",
        "user_list = lower_string.split()\n",
        "\n",
        "#print(user_list)\n",
        "\n",
        "len_1 = len(user_list)\n",
        "#print(len_1)\n",
        "\n",
        "vowels = ['a','e','i','o','u']\n",
        "\n",
        "enc_list = []\n",
        "\n",
        "\n",
        "for each in range(len_1):\n",
        "  if user_list[each][0] in vowels:\n",
        "    vow_enc = user_list[each][0]+user_list[each][-1]\n",
        "    enc_list.append(vow_enc)\n",
        "  else:\n",
        "    cons_word = user_list[each]\n",
        "    rem_list = [words.replace('a','').replace('e','').replace('i','').replace('o','').replace('u','') for words in cons_word]\n",
        "    jn_list = ''.join([element for element in rem_list if element != ''])\n",
        "    enc_list.append(jn_list)\n",
        "\n",
        "\n",
        "#print(enc_list)\n",
        "\n",
        "enc_str = ' '.join(enc_list)\n",
        "\n",
        "print(f\"Encoded Msg : {enc_str}\")"
      ],
      "metadata": {
        "colab": {
          "base_uri": "https://localhost:8080/"
        },
        "id": "M_LexHV84A6a",
        "outputId": "71df41b7-3004-4779-c741-5ff0a9155d2e"
      },
      "execution_count": 21,
      "outputs": [
        {
          "output_type": "stream",
          "name": "stdout",
          "text": [
            "Please enter your text : The quick brown fox used to sleep inside this box\n",
            "Encoded Msg : th qck brwn fx ud t slp ie ths bx\n"
          ]
        }
      ]
    },
    {
      "cell_type": "markdown",
      "source": [
        "**Q8:**\n",
        "\n",
        "Write a program to implement run length encoding of a string\n",
        "\n",
        "\n",
        "\n",
        "RLE:Consecutive repetition of a character has to be replaced with the count of occurances and the character.\n",
        "\n",
        "\n",
        "\n",
        "Enter your string :aabbbccdddae\n",
        "\n",
        "Encoded: 2a3b2c3d1a1e"
      ],
      "metadata": {
        "id": "0orkmjTTC7ms"
      }
    },
    {
      "cell_type": "code",
      "source": [
        "user_string = input(\"Enter your string  : \")\n",
        "\n",
        "#user_string = \"aabbbccdddae\"\n",
        "\n",
        "#print(user_string)\n",
        "\n",
        "\n",
        "\n",
        "count =1\n",
        "encode = \"\"\n",
        "\n",
        "for each in range(1,len(user_string)):\n",
        "  if user_string[each] == user_string[each-1]:\n",
        "    count = count +1\n",
        "  else:\n",
        "    encode = encode + str(count) + user_string[each-1]\n",
        "    count=1\n",
        "\n",
        "encode = encode + str(count) + user_string[-1]\n",
        "\n",
        "\n",
        "print(encode)\n",
        "\n"
      ],
      "metadata": {
        "colab": {
          "base_uri": "https://localhost:8080/"
        },
        "id": "gScqpHvfDF4Q",
        "outputId": "9f9e0567-801a-4906-b9e3-716893ebc307"
      },
      "execution_count": 22,
      "outputs": [
        {
          "output_type": "stream",
          "name": "stdout",
          "text": [
            "Enter your string  : aabbbccdddae\n",
            "2a3b2c3d1a1e\n"
          ]
        }
      ]
    }
  ]
}